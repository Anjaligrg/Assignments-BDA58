{
 "cells": [
  {
   "cell_type": "code",
   "execution_count": 1,
   "id": "9b46914b-e90f-4ce6-b1f5-a9d159a29c1d",
   "metadata": {},
   "outputs": [
    {
     "name": "stdout",
     "output_type": "stream",
     "text": [
      "   age  income   debt  default\n",
      "0   56   77733    801        0\n",
      "1   46   90318  45736        0\n",
      "2   32  134953   1199        0\n",
      "3   60  114474    690        0\n",
      "4   25   48664  10992        0\n"
     ]
    }
   ],
   "source": [
    "import numpy as np\n",
    "import pandas as pd\n",
    "\n",
    "# Create a synthetic dataset with 200 records\n",
    "np.random.seed(42)\n",
    "data_size = 200\n",
    "\n",
    "age = np.random.randint(18, 65, size=data_size)  # Customer age\n",
    "income = np.random.randint(25000, 150000, size=data_size)  # Annual income\n",
    "debt = np.random.randint(500, 50000, size=data_size)  # Debt amount\n",
    "default = np.random.choice([0, 1], size=data_size, p=[0.7, 0.3])  # 0 = No default, 1 = Default\n",
    "\n",
    "# Create a DataFrame\n",
    "df = pd.DataFrame({\n",
    "    'age': age,\n",
    "    'income': income,\n",
    "    'debt': debt,\n",
    "    'default': default\n",
    "})\n",
    "\n",
    "# Display the first few rows of the dataset\n",
    "print(df.head())"
   ]
  },
  {
   "cell_type": "code",
   "execution_count": 5,
   "id": "4f0ec38b-fb9a-41ec-b0f4-82a88cfcc1a7",
   "metadata": {},
   "outputs": [],
   "source": [
    "from sklearn.model_selection import train_test_split\n",
    "from sklearn.preprocessing import StandardScaler\n",
    "\n",
    "# Features and target variable\n",
    "X = df[['age', 'income', 'debt']]\n",
    "y = df['default']\n",
    "\n",
    "# Split the data into training and test sets (80% train, 20% test)\n",
    "X_train, X_test, y_train, y_test = train_test_split(X, y, test_size=0.2, random_state=42)\n",
    "\n",
    "# Standardize the data (SVM is sensitive to the scale of features)\n",
    "scaler = StandardScaler()\n",
    "X_train_scaled = scaler.fit_transform(X_train)\n",
    "X_test_scaled = scaler.transform(X_test)"
   ]
  },
  {
   "cell_type": "code",
   "execution_count": 7,
   "id": "ff8a18c4-ba42-4681-825a-a42344b8d7da",
   "metadata": {},
   "outputs": [
    {
     "name": "stdout",
     "output_type": "stream",
     "text": [
      "Linear Regression Accuracy: 0.57\n"
     ]
    }
   ],
   "source": [
    "from sklearn.linear_model import LinearRegression\n",
    "from sklearn.metrics import accuracy_score\n",
    "\n",
    "# Train a Linear Regression model\n",
    "lr_model = LinearRegression()\n",
    "lr_model.fit(X_train, y_train)\n",
    "\n",
    "# Predict using the linear regression model\n",
    "y_pred_lr = lr_model.predict(X_test)\n",
    "\n",
    "# Convert predictions to binary classification (threshold = 0.5)\n",
    "y_pred_lr_class = [1 if i >= 0.5 else 0 for i in y_pred_lr]\n",
    "\n",
    "# Evaluate Linear Regression Model\n",
    "accuracy_lr = accuracy_score(y_test, y_pred_lr_class)\n",
    "print(f\"Linear Regression Accuracy: {accuracy_lr:.2f}\")"
   ]
  },
  {
   "cell_type": "code",
   "execution_count": 9,
   "id": "84da4ec7-4adf-496c-b429-7f6413c98ec9",
   "metadata": {},
   "outputs": [
    {
     "name": "stdout",
     "output_type": "stream",
     "text": [
      "Random Forest Accuracy: 0.50\n"
     ]
    }
   ],
   "source": [
    "from sklearn.ensemble import RandomForestClassifier\n",
    "\n",
    "# Train a Random Forest classifier\n",
    "rf_model = RandomForestClassifier(n_estimators=100, random_state=42)\n",
    "rf_model.fit(X_train, y_train)\n",
    "\n",
    "# Predict using the random forest model\n",
    "y_pred_rf = rf_model.predict(X_test)\n",
    "\n",
    "# Evaluate Random Forest Model\n",
    "accuracy_rf = accuracy_score(y_test, y_pred_rf)\n",
    "print(f\"Random Forest Accuracy: {accuracy_rf:.2f}\")"
   ]
  },
  {
   "cell_type": "code",
   "execution_count": 10,
   "id": "e4a60e86-012c-4998-9600-0d6185df50ef",
   "metadata": {},
   "outputs": [
    {
     "name": "stdout",
     "output_type": "stream",
     "text": [
      "SVM Accuracy: 0.57\n"
     ]
    }
   ],
   "source": [
    "from sklearn.svm import SVC\n",
    "\n",
    "# Train an SVM classifier\n",
    "svm_model = SVC(kernel='linear', random_state=42)\n",
    "svm_model.fit(X_train_scaled, y_train)\n",
    "\n",
    "# Predict using the SVM model\n",
    "y_pred_svm = svm_model.predict(X_test_scaled)\n",
    "\n",
    "# Evaluate SVM Model\n",
    "accuracy_svm = accuracy_score(y_test, y_pred_svm)\n",
    "print(f\"SVM Accuracy: {accuracy_svm:.2f}\")"
   ]
  },
  {
   "cell_type": "code",
   "execution_count": 11,
   "id": "ab3b538a-497b-4fe9-974e-c18942f43361",
   "metadata": {},
   "outputs": [
    {
     "name": "stdout",
     "output_type": "stream",
     "text": [
      "Model Comparison:\n",
      "Linear Regression Accuracy: 0.57\n",
      "Random Forest Accuracy: 0.50\n",
      "SVM Accuracy: 0.57\n"
     ]
    }
   ],
   "source": [
    "print(\"Model Comparison:\")\n",
    "print(f\"Linear Regression Accuracy: {accuracy_lr:.2f}\")\n",
    "print(f\"Random Forest Accuracy: {accuracy_rf:.2f}\")\n",
    "print(f\"SVM Accuracy: {accuracy_svm:.2f}\")"
   ]
  },
  {
   "cell_type": "code",
   "execution_count": null,
   "id": "46d8db70-aa69-4cfe-a37a-811cac9a6fa7",
   "metadata": {},
   "outputs": [],
   "source": []
  }
 ],
 "metadata": {
  "kernelspec": {
   "display_name": "Python 3 (ipykernel)",
   "language": "python",
   "name": "python3"
  },
  "language_info": {
   "codemirror_mode": {
    "name": "ipython",
    "version": 3
   },
   "file_extension": ".py",
   "mimetype": "text/x-python",
   "name": "python",
   "nbconvert_exporter": "python",
   "pygments_lexer": "ipython3",
   "version": "3.12.4"
  }
 },
 "nbformat": 4,
 "nbformat_minor": 5
}
