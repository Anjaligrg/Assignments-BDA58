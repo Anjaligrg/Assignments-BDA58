{
 "cells": [
  {
   "cell_type": "markdown",
   "id": "9d0be673-9ca3-4a45-93f2-5bbaa6671134",
   "metadata": {},
   "source": [
    "Objective:"
   ]
  },
  {
   "cell_type": "markdown",
   "id": "45f697e0-cd35-4770-ace2-0adee1db055e",
   "metadata": {},
   "source": [
    "The objective of this assignment is to help trainees gain hands-on experience with Scrapy, a powerful web scraping framework in Python. By the end of this assignment, trainees should be able to create Scrapy projects, build spiders to extract data from websites, and store the scraped data in various formats."
   ]
  },
  {
   "cell_type": "markdown",
   "id": "53041706-dedb-4045-b0e9-caa93534ace0",
   "metadata": {},
   "source": [
    "Task 1: Install and Set Up Scrapy"
   ]
  },
  {
   "cell_type": "markdown",
   "id": "d4d0641d-e644-432c-8dfe-03bd0edf0af4",
   "metadata": {},
   "source": [
    "Install Scrapy:\n",
    "- Install Scrapy in your Python environment.\n",
    "\n",
    "- Use the following command to install: pip install scrapy"
   ]
  },
  {
   "cell_type": "code",
   "execution_count": 2,
   "id": "160074c1-aa3d-4168-95cd-af976b967ee7",
   "metadata": {},
   "outputs": [
    {
     "name": "stdout",
     "output_type": "stream",
     "text": [
      "Requirement already satisfied: scapy in /opt/anaconda3/lib/python3.12/site-packages (2.5.0)\n",
      "Note: you may need to restart the kernel to use updated packages.\n"
     ]
    }
   ],
   "source": [
    " pip install scapy "
   ]
  },
  {
   "cell_type": "markdown",
   "id": "9a25f0e6-939e-4f06-b424-1837504f179f",
   "metadata": {},
   "source": [
    "Create a Scrapy Project:\n",
    "- Create a new Scrapy project named \"web_scraper\" in your working directory."
   ]
  },
  {
   "cell_type": "markdown",
   "id": "97827788-f189-41db-bf6a-6a4c971d284c",
   "metadata": {},
   "source": [
    "# create a project \n",
    "#  scrapy startproject webpager"
   ]
  },
  {
   "cell_type": "markdown",
   "id": "2c810284-e893-4b6b-9701-79f9c47545fc",
   "metadata": {},
   "source": [
    "Task 2: Create a Spider to Scrape a Website\n",
    "- Choose a Website: Select a simple, publicly accessible website to scrape.\n",
    "- Examples include:\n",
    "\n",
    "- http://quotes.toscrape.com (A website designed for practicing web scraping)\n",
    "\n",
    "- Generate a Spider: Create a spider within your project to scrape the website.\n",
    "\n",
    "- Name the spider based on the website, e.g., quotes_spider for the quotes website."
   ]
  },
  {
   "cell_type": "code",
   "execution_count": null,
   "id": "3446bef1-8230-4950-81ac-514a17e44a85",
   "metadata": {},
   "outputs": [],
   "source": [
    "import scrapy\n",
    "\n",
    "\n",
    "class QuotesSpider(scrapy.Spider):\n",
    "    name = \"quotes\"\n",
    "    allowed_domains = [\"quotes_spider.com\"]\n",
    "    start_urls = [\"https://quotes_spider.com\"]\n",
    "    \n",
    "    def parse(self, response):\n",
    "        for quote in response.css(\"div.quote\"):\n",
    "            yield {\n",
    "                \"text\": quote.css(\"span.text::text\").get(),\n",
    "                \"author\": quote.css(\"small.author::text\").get(),\n",
    "                \"tags\": quote.css(\"div.tags a.tag::text\").getall(),\n",
    "            }\n",
    "    \n"
   ]
  },
  {
   "cell_type": "markdown",
   "id": "3f6d1a8d-2e0c-4369-bb38-1ad4a84484e0",
   "metadata": {},
   "source": [
    "# Extract Data:\n",
    "- Extract the following data from the website:\n",
    "\n",
    "- Quotes: Extract the text of the quotes.\n",
    "- Authors: Extract the name of the author for each quote.\n",
    "- Tags: Extract tags associated with each quote."
   ]
  },
  {
   "cell_type": "code",
   "execution_count": null,
   "id": "80ac2e90-6bd6-44a5-aca3-9e258912fbf4",
   "metadata": {},
   "outputs": [],
   "source": [
    "import scrapy\n",
    "\n",
    "\n",
    "class QuotesSpider(scrapy.Spider):\n",
    "    name = \"quotes\"\n",
    "    allowed_domains = [\"quotes_spider.com\"]\n",
    "    start_urls = [\"https://quotes_spider.com\"]\n",
    "    \n",
    "    def parse(self, response):\n",
    "        for quote in response.css(\"div.quote\"):\n",
    "            yield {\n",
    "                \"text\": quote.css(\"span.text::text\").get(),\n",
    "                \"author\": quote.css(\"small.author::text\").get(),\n",
    "                \"tags\": quote.css(\"div.tags a.tag::text\").getall(),\n",
    "            }"
   ]
  },
  {
   "cell_type": "code",
   "execution_count": null,
   "id": "230cde20-513b-4139-be31-f6b79880fb04",
   "metadata": {},
   "outputs": [],
   "source": [
    "{'text': '“The world as we have created it is a process of our thinking. It cannot be changed without changing our thinking.”', 'author': 'Albert Einstein', 'tags': ['change', 'deep-thoughts', 'thinking', 'world']}\n",
    "2024-09-07 00:00:33 [scrapy.core.scraper] DEBUG: Scraped from <200 https://quotes.toscrape.com/>\n",
    "{'text': '“It is our choices, Harry, that show what we truly are, far more than our abilities.”', 'author': 'J.K. Rowling', 'tags': ['abilities', 'choices']}\n",
    "2024-09-07 00:00:33 [scrapy.core.scraper] DEBUG: Scraped from <200 https://quotes.toscrape.com/>\n",
    "{'text': '“There are only two ways to live your life. One is as though nothing is a miracle. The other is as though everything is a miracle.”', 'author': 'Albert Einstein', 'tags': ['inspirational', 'life', 'live', 'miracle', 'miracles']}\n",
    "2024-09-07 00:00:33 [scrapy.core.scraper] DEBUG: Scraped from <200 https://quotes.toscrape.com/>\n",
    "{'text': '“The person, be it gentleman or lady, who has not pleasure in a good novel, must be intolerably stupid.”', 'author': 'Jane Austen', 'tags': ['aliteracy', 'books', 'classic', 'humor']}\n",
    "2024-09-07 00:00:33 [scrapy.core.scraper] DEBUG: Scraped from <200 https://quotes.toscrape.com/>\n",
    "{'text': \"“Imperfection is beauty, madness is genius and it's better to be absolutely ridiculous than absolutely boring.”\", 'author': 'Marilyn Monroe', 'tags': ['be-yourself', 'inspirational']}\n",
    "2024-09-07 00:00:33 [scrapy.core.scraper] DEBUG: Scraped from <200 https://quotes.toscrape.com/>\n",
    "{'text': '“Try not to become a man of success. Rather become a man of value.”', 'author': 'Albert Einstein', 'tags': ['adulthood', 'success', 'value']}\n",
    "2024-09-07 00:00:33 [scrapy.core.scraper] DEBUG: Scraped from <200 https://quotes.toscrape.com/>\n",
    "{'text': '“It is better to be hated for what you are than to be loved for what you are not.”', 'author': 'André Gide', 'tags': ['life', 'love']}\n",
    "2024-09-07 00:00:33 [scrapy.core.scraper] DEBUG: Scraped from <200 https://quotes.toscrape.com/>\n",
    "{'text': \"“I have not failed. I've just found 10,000 ways that won't work.”\", 'author': 'Thomas A. Edison', 'tags': ['edison', 'failure', 'inspirational', 'paraphrased']}\n",
    "2024-09-07 00:00:33 [scrapy.core.scraper] DEBUG: Scraped from <200 https://quotes.toscrape.com/>\n",
    "{'text': \"“A woman is like a tea bag; you never know how strong it is until it's in hot water.”\", 'author': 'Eleanor Roosevelt', 'tags': ['misattributed-eleanor-roosevelt']}\n",
    "2024-09-07 00:00:33 [scrapy.core.scraper] DEBUG: Scraped from <200 https://quotes.toscrape.com/>\n",
    "{'text': '“A day without sunshine is like, you know, night.”', 'author': 'Steve Martin', 'tags': ['humor', 'obvious', 'simile']}"
   ]
  },
  {
   "cell_type": "markdown",
   "id": "55ab9d1b-5b97-41bf-9343-9d77dbe2903e",
   "metadata": {},
   "source": [
    "#Task 3: Save the Scraped Data\n",
    "- Save Data to a JSON File: Run the spider and save the scraped data to a JSON file."
   ]
  },
  {
   "cell_type": "code",
   "execution_count": null,
   "id": "e619a547-ff8b-4322-a5cb-0d150c731596",
   "metadata": {},
   "outputs": [],
   "source": [
    "# scrapy crawl quotes -O quotes.json\n",
    "[\n",
    "{\"text\": \"“The world as we have created it is a process of our thinking. It cannot be changed without changing our thinking.”\", \"author\": \"Albert Einstein\", \"tags\": [\"change\", \"deep-thoughts\", \"thinking\", \"world\"]},\n",
    "{\"text\": \"“It is our choices, Harry, that show what we truly are, far more than our abilities.”\", \"author\": \"J.K. Rowling\", \"tags\": [\"abilities\", \"choices\"]},\n",
    "{\"text\": \"“There are only two ways to live your life. One is as though nothing is a miracle. The other is as though everything is a miracle.”\", \"author\": \"Albert Einstein\", \"tags\": [\"inspirational\", \"life\", \"live\", \"miracle\", \"miracles\"]},\n",
    "{\"text\": \"“The person, be it gentleman or lady, who has not pleasure in a good novel, must be intolerably stupid.”\", \"author\": \"Jane Austen\", \"tags\": [\"aliteracy\", \"books\", \"classic\", \"humor\"]},\n",
    "{\"text\": \"“Imperfection is beauty, madness is genius and it's better to be absolutely ridiculous than absolutely boring.”\", \"author\": \"Marilyn Monroe\", \"tags\": [\"be-yourself\", \"inspirational\"]},\n",
    "{\"text\": \"“Try not to become a man of success. Rather become a man of value.”\", \"author\": \"Albert Einstein\", \"tags\": [\"adulthood\", \"success\", \"value\"]},\n",
    "{\"text\": \"“It is better to be hated for what you are than to be loved for what you are not.”\", \"author\": \"André Gide\", \"tags\": [\"life\", \"love\"]},\n",
    "{\"text\": \"“I have not failed. I've just found 10,000 ways that won't work.”\", \"author\": \"Thomas A. Edison\", \"tags\": [\"edison\", \"failure\", \"inspirational\", \"paraphrased\"]},\n",
    "{\"text\": \"“A woman is like a tea bag; you never know how strong it is until it's in hot water.”\", \"author\": \"Eleanor Roosevelt\", \"tags\": [\"misattributed-eleanor-roosevelt\"]},\n",
    "{\"text\": \"“A day without sunshine is like, you know, night.”\", \"author\": \"Steve Martin\", \"tags\": [\"humor\", \"obvious\", \"simile\"]}\n",
    "]"
   ]
  },
  {
   "cell_type": "markdown",
   "id": "c86eccc5-2081-4121-a9e1-485e1d487382",
   "metadata": {},
   "source": [
    "#Save Data to a CSV File: \n",
    "- Run the spider again and save the data to a CSV file."
   ]
  },
  {
   "cell_type": "code",
   "execution_count": null,
   "id": "ab98bd9e-bbe1-4fd1-97fe-b2973971939b",
   "metadata": {},
   "outputs": [],
   "source": [
    "## scrapy crawl quotes -O quotes.csv\n",
    "text,author,tags\n",
    "“The world as we have created it is a process of our thinking. It cannot be changed without changing our thinking.”,Albert Einstein,\"change,deep-thoughts,thinking,world\"\n",
    "\"“It is our choices, Harry, that show what we truly are, far more than our abilities.”\",J.K. Rowling,\"abilities,choices\"\n",
    "“There are only two ways to live your life. One is as though nothing is a miracle. The other is as though everything is a miracle.”,Albert Einstein,\"inspirational,life,live,miracle,miracles\"\n",
    "\"“The person, be it gentleman or lady, who has not pleasure in a good novel, must be intolerably stupid.”\",Jane Austen,\"aliteracy,books,classic,humor\"\n",
    "\"“Imperfection is beauty, madness is genius and it's better to be absolutely ridiculous than absolutely boring.”\",Marilyn Monroe,\"be-yourself,inspirational\"\n",
    "“Try not to become a man of success. Rather become a man of value.”,Albert Einstein,\"adulthood,success,value\"\n",
    "“It is better to be hated for what you are than to be loved for what you are not.”,André Gide,\"life,love\"\n",
    "\"“I have not failed. I've just found 10,000 ways that won't work.”\",Thomas A. Edison,\"edison,failure,inspirational,paraphrased\"\n",
    "“A woman is like a tea bag; you never know how strong it is until it's in hot water.”,Eleanor Roosevelt,misattributed-eleanor-roosevelt\n",
    "\"“A day without sunshine is like, you know, night.”\",Steve Martin,\"humor,obvious,simile\""
   ]
  },
  {
   "cell_type": "markdown",
   "id": "68da7993-a735-4fba-9935-be21040aeafb",
   "metadata": {},
   "source": [
    "# Task 4: Implement Error Handling and Logging\n",
    "- Add Error Handling: Modify your spider to include basic error handling, such as retrying failed requests or skipping certain elements if they are not found."
   ]
  },
  {
   "cell_type": "markdown",
   "id": "dfc05784-da2b-4375-9f4b-aca1ca76bf77",
   "metadata": {},
   "source": [
    "- First I forgot to add create myproject then I have to redo it .\n",
    "- spelling mistake \n",
    "- crawl not found because i forgot to create project \n",
    "- Again delete the quotes.py and created again \n",
    "- Title, quotes , author name was empty when I saved to jason file\n",
    "- Forgot to change the code crawl. \n",
    "- After doing it for 4 times I was able to get the result. \n",
    "- 4 time was easy as I note down all my mistake."
   ]
  },
  {
   "cell_type": "markdown",
   "id": "93bc5466-9105-48d2-87be-79f7cbbeefc1",
   "metadata": {},
   "source": [
    "# Enable Logging: \n",
    "- Configure Scrapy’s logging to monitor your spider’s activity. Write logs to a file for review."
   ]
  },
  {
   "cell_type": "markdown",
   "id": "f6de6011-036b-4853-bbf2-0e6f113328de",
   "metadata": {},
   "source": [
    "- cd desktop\n",
    "- cd scrapywebpager\n",
    "- ls (scrapywebpager)\n",
    "- scrapy genspider quotes quotes.py\n",
    "- scrapy crawl quotes \n",
    "- scrapy crawl quotes -O quotes.json\n",
    "- scrapy crawl quotes -O quotes.csv\n"
   ]
  }
 ],
 "metadata": {
  "kernelspec": {
   "display_name": "Python 3 (ipykernel)",
   "language": "python",
   "name": "python3"
  },
  "language_info": {
   "codemirror_mode": {
    "name": "ipython",
    "version": 3
   },
   "file_extension": ".py",
   "mimetype": "text/x-python",
   "name": "python",
   "nbconvert_exporter": "python",
   "pygments_lexer": "ipython3",
   "version": "3.12.4"
  }
 },
 "nbformat": 4,
 "nbformat_minor": 5
}
